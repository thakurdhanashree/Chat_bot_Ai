{
  "nbformat": 4,
  "nbformat_minor": 0,
  "metadata": {
    "colab": {
      "provenance": []
    },
    "kernelspec": {
      "name": "python3",
      "display_name": "Python 3"
    },
    "language_info": {
      "name": "python"
    }
  },
  "cells": [
    {
      "cell_type": "code",
      "source": [
        "import re"
      ],
      "metadata": {
        "id": "uYRLu22bys9e"
      },
      "execution_count": 7,
      "outputs": []
    },
    {
      "cell_type": "code",
      "source": [
        "def get_response(input_text):\n",
        "    # Define the chatbot responses based on patterns\n",
        "    responses = {\n",
        "        r\"hi|hello|hey\": \"Hello! How can I assist you today?\",\n",
        "        r\"what is your name\": \"I'm just a simple chatbot.\",\n",
        "        r\"how are you\": \"I'm just a program, but thanks for asking!\",\n",
        "        r\"Tell me some joke\": \"Why don't skeletons fight each other? beacuse, They don't have the guts!\",\n",
        "        r\"bye|goodbye\": \"Goodbye! Have a great day!\",\n",
        "        r\"(\\d+) ([-+*/]) (\\d+)\": calculate_expression,\n",
        "        # Add more patterns and responses as needed\n",
        "    }\n",
        "\n",
        "    # Check user input against each pattern and return the corresponding response\n",
        "    for pattern, response in responses.items():\n",
        "        if re.search(pattern, input_text, re.IGNORECASE):\n",
        "            if callable(response):\n",
        "                return response(input_text)\n",
        "            return response\n",
        "\n",
        "    # If no patterns match, return a default response\n",
        "    return \"I'm sorry, but I don't understand. Can you please rephrase?\"\n",
        "\n",
        "def calculate_expression(input_text):\n",
        "    # Function to calculate simple arithmetic expressions\n",
        "    match = re.search(r\"(\\d+) ([-+*/]) (\\d+)\", input_text)\n",
        "    if match:\n",
        "        num1, operator, num2 = match.groups()\n",
        "        num1, num2 = int(num1), int(num2)\n",
        "        if operator == \"+\":\n",
        "            return str(num1 + num2)\n",
        "        elif operator == \"-\":\n",
        "            return str(num1 - num2)\n",
        "        elif operator == \"*\":\n",
        "            return str(num1 * num2)\n",
        "        elif operator == \"/\":\n",
        "            if num2 != 0:\n",
        "                return str(num1 / num2)\n",
        "            else:\n",
        "                return \"Cannot divide by zero.\"\n",
        "    return \"Sorry, I couldn't perform the calculation.\"\n",
        "\n",
        "# Main loop to interact with the chatbot\n",
        "if __name__ == \"__main__\":\n",
        "    print(\"AI Chatbot: Hello! How can I assist you today? (Type 'bye' to end)\")\n",
        "\n",
        "    while True:\n",
        "        user_input = input(\"You: \")\n",
        "        if user_input.lower() == \"bye\":\n",
        "            print(\"AI Chatbot: Goodbye! Have a great day!\")\n",
        "            break\n",
        "        response = get_response(user_input)\n",
        "        print(\"AI Chatbot:\", response)"
      ],
      "metadata": {
        "colab": {
          "base_uri": "https://localhost:8080/"
        },
        "id": "SQ3tOY272Kbk",
        "outputId": "8f8f2e2a-de06-4a58-9fc3-ba0b77e28918"
      },
      "execution_count": null,
      "outputs": [
        {
          "output_type": "stream",
          "name": "stdout",
          "text": [
            "AI Chatbot: Hello! How can I assist you today? (Type 'bye' to end)\n",
            "You: hello\n",
            "AI Chatbot: Hello! How can I assist you today?\n",
            "You: what is your name\n",
            "AI Chatbot: I'm just a simple chatbot.\n",
            "You: how are you\n",
            "AI Chatbot: I'm just a program, but thanks for asking!\n",
            "You: tell me some joke\n",
            "AI Chatbot: Why don't skeletons fight each other? beacuse, They don't have the guts!\n",
            "You: goodbye\n",
            "AI Chatbot: Goodbye! Have a great day!\n"
          ]
        }
      ]
    }
  ]
}